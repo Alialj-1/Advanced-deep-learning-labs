{
 "cells": [
  {
   "cell_type": "code",
   "execution_count": 26,
   "id": "56848f41",
   "metadata": {},
   "outputs": [
    {
     "name": "stdout",
     "output_type": "stream",
     "text": [
      "<torch.utils.data.dataloader.DataLoader object at 0x1484674d0>\n"
     ]
    },
    {
     "name": "stderr",
     "output_type": "stream",
     "text": [
      "Training: 100%|████████████████████████████████████████████████████████████████████████████████████████████████████████████████████████████████| 82/82 [03:03<00:00,  2.23s/batch]\n"
     ]
    }
   ],
   "source": [
    "import os\n",
    "import torch\n",
    "from torch.utils.data import DataLoader, Dataset\n",
    "from PIL import Image\n",
    "import torchvision.transforms as transforms\n",
    "from tqdm import tqdm \n",
    "\n",
    "class MyDataset(Dataset):\n",
    "    def __init__(self, data_dir):\n",
    "        self.data_dir = data_dir\n",
    "        self.classes = os.listdir(data_dir)  # training directories\n",
    "        self.images = []  \n",
    "        \n",
    "        # looping class directories\n",
    "        for class_dir in self.classes:\n",
    "            class_path = os.path.join(data_dir, class_dir)\n",
    "            if os.path.isdir(class_path):\n",
    "                # image files in class directory\n",
    "                image_files = [file for file in os.listdir(class_path) if file.endswith(('.jpg', '.jpeg', '.png'))]\n",
    "                # Append image paths and labels to the images list\n",
    "                self.images.extend([(os.path.join(class_path, image_file), class_dir) for image_file in image_files])\n",
    "    \n",
    "    def __len__(self):\n",
    "        return len(self.images)\n",
    "    \n",
    "    def __getitem__(self, idx):\n",
    "        image_path, label = self.images[idx]\n",
    "        try:\n",
    "            # Load image data from the file\n",
    "            with open(image_path, 'rb') as file:  # Open in binary mode\n",
    "                image = Image.open(file)  # Open the image\n",
    "                # Convert grayscale images to RGB format if needed\n",
    "                if image.mode != 'RGB':\n",
    "                    image = image.convert('RGB')\n",
    "                # resize and convertin to tensor\n",
    "                transform = transforms.Compose([\n",
    "                    transforms.Resize((256, 256)),  # Resize to a fixed size\n",
    "                    transforms.ToTensor(),  # Convert to PyTorch tensor\n",
    "                    transforms.Normalize(mean=[0.485, 0.456, 0.406], std=[0.229, 0.224, 0.225])  # Normalize \n",
    "                ])\n",
    "                tensor_image = transform(image)\n",
    "                return tensor_image, label\n",
    "        except Exception as e:\n",
    "            print(f\"Error loading data from {image_path}: {e}\")\n",
    "            return None, None\n",
    "\n",
    "data_path = \"train\" # Update directory path - preferrably put the code with the data\n",
    "\n",
    "# instance of custom dataset\n",
    "dataset = MyDataset(data_path)\n",
    "\n",
    "# parameters for DataLoader\n",
    "batch_size = 64\n",
    "shuffle = True\n",
    "num_workers = 0  # Adjust this based on your system's capabilities, 4 if system is good\n",
    "\n",
    "# DataLoader instance\n",
    "dataloader = DataLoader(dataset, batch_size=batch_size, shuffle=shuffle, num_workers=num_workers)\n",
    "\n",
    "# Iterate over batches of data\n",
    "for images, labels in tqdm(dataloader, desc=\"Training\", unit=\"batch\"):\n",
    "    # Process your image data batch here\n",
    "    pass"
   ]
  },
  {
   "cell_type": "code",
   "execution_count": null,
   "id": "66f20783",
   "metadata": {},
   "outputs": [],
   "source": []
  }
 ],
 "metadata": {
  "kernelspec": {
   "display_name": "Python 3 (ipykernel)",
   "language": "python",
   "name": "python3"
  },
  "language_info": {
   "codemirror_mode": {
    "name": "ipython",
    "version": 3
   },
   "file_extension": ".py",
   "mimetype": "text/x-python",
   "name": "python",
   "nbconvert_exporter": "python",
   "pygments_lexer": "ipython3",
   "version": "3.11.5"
  }
 },
 "nbformat": 4,
 "nbformat_minor": 5
}
