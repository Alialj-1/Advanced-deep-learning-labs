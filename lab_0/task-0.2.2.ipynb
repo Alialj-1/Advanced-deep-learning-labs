{
 "cells": [
  {
   "cell_type": "markdown",
   "id": "bfaad7bb",
   "metadata": {},
   "source": [
    "# Task 0.2.2\n",
    "\n",
    "### Prepare a CNN of your choice and train it on the MNIST data. Report the accuracy"
   ]
  },
  {
   "cell_type": "code",
   "execution_count": 1,
   "id": "560295b6",
   "metadata": {},
   "outputs": [
    {
     "name": "stderr",
     "output_type": "stream",
     "text": [
      "2024-04-14 11:34:42.842085: I tensorflow/core/platform/cpu_feature_guard.cc:210] This TensorFlow binary is optimized to use available CPU instructions in performance-critical operations.\n",
      "To enable the following instructions: AVX2 FMA, in other operations, rebuild TensorFlow with the appropriate compiler flags.\n",
      "/Users/qasim/anaconda3/lib/python3.11/site-packages/keras/src/layers/convolutional/base_conv.py:99: UserWarning: Do not pass an `input_shape`/`input_dim` argument to a layer. When using Sequential models, prefer using an `Input(shape)` object as the first layer in the model instead.\n",
      "  super().__init__(\n"
     ]
    },
    {
     "name": "stdout",
     "output_type": "stream",
     "text": [
      "Epoch 1/5\n",
      "\u001b[1m938/938\u001b[0m \u001b[32m━━━━━━━━━━━━━━━━━━━━\u001b[0m\u001b[37m\u001b[0m \u001b[1m38s\u001b[0m 38ms/step - accuracy: 0.8658 - loss: 0.4377 - val_accuracy: 0.9861 - val_loss: 0.0434\n",
      "Epoch 2/5\n",
      "\u001b[1m938/938\u001b[0m \u001b[32m━━━━━━━━━━━━━━━━━━━━\u001b[0m\u001b[37m\u001b[0m \u001b[1m37s\u001b[0m 40ms/step - accuracy: 0.9822 - loss: 0.0574 - val_accuracy: 0.9877 - val_loss: 0.0371\n",
      "Epoch 3/5\n",
      "\u001b[1m938/938\u001b[0m \u001b[32m━━━━━━━━━━━━━━━━━━━━\u001b[0m\u001b[37m\u001b[0m \u001b[1m37s\u001b[0m 39ms/step - accuracy: 0.9889 - loss: 0.0366 - val_accuracy: 0.9831 - val_loss: 0.0502\n",
      "Epoch 4/5\n",
      "\u001b[1m938/938\u001b[0m \u001b[32m━━━━━━━━━━━━━━━━━━━━\u001b[0m\u001b[37m\u001b[0m \u001b[1m39s\u001b[0m 37ms/step - accuracy: 0.9904 - loss: 0.0291 - val_accuracy: 0.9907 - val_loss: 0.0326\n",
      "Epoch 5/5\n",
      "\u001b[1m938/938\u001b[0m \u001b[32m━━━━━━━━━━━━━━━━━━━━\u001b[0m\u001b[37m\u001b[0m \u001b[1m39s\u001b[0m 42ms/step - accuracy: 0.9927 - loss: 0.0230 - val_accuracy: 0.9896 - val_loss: 0.0310\n"
     ]
    },
    {
     "name": "stderr",
     "output_type": "stream",
     "text": [
      "WARNING:absl:You are saving your model as an HDF5 file via `model.save()` or `keras.saving.save_model(model)`. This file format is considered legacy. We recommend using instead the native Keras format, e.g. `model.save('my_model.keras')` or `keras.saving.save_model(model, 'my_model.keras')`. \n"
     ]
    },
    {
     "name": "stdout",
     "output_type": "stream",
     "text": [
      "\u001b[1m313/313\u001b[0m \u001b[32m━━━━━━━━━━━━━━━━━━━━\u001b[0m\u001b[37m\u001b[0m \u001b[1m2s\u001b[0m 5ms/step - accuracy: 0.9877 - loss: 0.0349\n",
      "Test accuracy: 0.9896000027656555\n"
     ]
    }
   ],
   "source": [
    "import tensorflow as tf\n",
    "from tensorflow.keras import layers, models\n",
    "from tensorflow.keras.datasets import mnist\n",
    "from tensorflow.keras.utils import to_categorical\n",
    "\n",
    "# Load and preprocess the MNIST dataset\n",
    "(train_images, train_labels), (test_images, test_labels) = mnist.load_data()\n",
    "train_images = train_images.reshape((60000, 28, 28, 1)).astype('float32') / 255\n",
    "test_images = test_images.reshape((10000, 28, 28, 1)).astype('float32') / 255\n",
    "train_labels = to_categorical(train_labels)\n",
    "test_labels = to_categorical(test_labels)\n",
    "\n",
    "# Define the CNN model\n",
    "model = models.Sequential()\n",
    "model.add(layers.Conv2D(32, (3, 3), activation='relu', input_shape=(28, 28, 1)))\n",
    "model.add(layers.MaxPooling2D((2, 2)))\n",
    "model.add(layers.Conv2D(64, (3, 3), activation='relu'))\n",
    "model.add(layers.MaxPooling2D((2, 2)))\n",
    "model.add(layers.Conv2D(64, (3, 3), activation='relu'))\n",
    "model.add(layers.Flatten())\n",
    "model.add(layers.Dense(64, activation='relu'))\n",
    "model.add(layers.Dense(10, activation='softmax'))\n",
    "\n",
    "# Compile the model\n",
    "model.compile(optimizer='adam',\n",
    "              loss='categorical_crossentropy',\n",
    "              metrics=['accuracy'])\n",
    "\n",
    "# Train the model\n",
    "history = model.fit(train_images, train_labels, epochs=5, batch_size=64, validation_data=(test_images, test_labels))\n",
    "\n",
    "# Save the model\n",
    "model.save(\"mnist_model.h5\")\n",
    "\n",
    "# Evaluate the model\n",
    "test_loss, test_acc = model.evaluate(test_images, test_labels)\n",
    "\n",
    "print('Test accuracy:', test_acc)\n"
   ]
  },
  {
   "cell_type": "markdown",
   "id": "da5d38c9",
   "metadata": {},
   "source": [
    "### Use the above model as a pre-trained CNN for the SVHN dataset. Report the accuracy"
   ]
  },
  {
   "cell_type": "code",
   "execution_count": 9,
   "id": "f20207d8",
   "metadata": {},
   "outputs": [
    {
     "name": "stderr",
     "output_type": "stream",
     "text": [
      "WARNING:absl:Compiled the loaded model, but the compiled metrics have yet to be built. `model.compile_metrics` will be empty until you train or evaluate the model.\n"
     ]
    },
    {
     "name": "stdout",
     "output_type": "stream",
     "text": [
      "\u001b[1m814/814\u001b[0m \u001b[32m━━━━━━━━━━━━━━━━━━━━\u001b[0m\u001b[37m\u001b[0m \u001b[1m4s\u001b[0m 5ms/step - accuracy: 0.1138 - loss: 2.6142\n",
      "Test accuracy on SVHN dataset: 0.11524277925491333\n"
     ]
    }
   ],
   "source": [
    "import tensorflow as tf\n",
    "from tensorflow.keras import layers, models\n",
    "from tensorflow.keras.utils import to_categorical\n",
    "from tensorflow.keras.models import load_model\n",
    "import cv2\n",
    "from scipy.io import loadmat\n",
    "import numpy as np\n",
    "\n",
    "# Load SVHN dataset\n",
    "train_data = loadmat('train_32x32.mat')\n",
    "test_data = loadmat('test_32x32.mat')\n",
    "\n",
    "# Extract images and labels from SVHN dataset\n",
    "train_images = np.moveaxis(train_data['X'], -1, 0)\n",
    "train_labels = train_data['y']\n",
    "test_images = np.moveaxis(test_data['X'], -1, 0)\n",
    "test_labels = test_data['y']\n",
    "\n",
    "# Preprocess SVHN dataset\n",
    "train_images = train_images.astype('float32') / 255\n",
    "test_images = test_images.astype('float32') / 255\n",
    "\n",
    "# Resize SVHN images to 28x28\n",
    "train_images_resized = [cv2.resize(img, (28, 28)) for img in train_images]\n",
    "test_images_resized = [cv2.resize(img, (28, 28)) for img in test_images]\n",
    "\n",
    "# Convert SVHN images to grayscale\n",
    "train_images_gray = [cv2.cvtColor(img, cv2.COLOR_RGB2GRAY) for img in train_images_resized]\n",
    "test_images_gray = [cv2.cvtColor(img, cv2.COLOR_RGB2GRAY) for img in test_images_resized]\n",
    "\n",
    "# Expand dimensions to match input shape of the pre-trained MNIST model\n",
    "train_images_gray = np.expand_dims(train_images_gray, axis=-1)\n",
    "test_images_gray = np.expand_dims(test_images_gray, axis=-1)\n",
    "\n",
    "# Convert SVHN labels to one-hot encoding\n",
    "train_labels = to_categorical(train_labels - 1, num_classes=10)\n",
    "test_labels = to_categorical(test_labels - 1, num_classes=10)\n",
    "\n",
    "# Load the pre-trained MNIST model\n",
    "mnist_model = load_model(\"mnist_model.h5\")\n",
    "\n",
    "# Modify the output layer for SVHN dataset (10 x classes)\n",
    "mnist_model.pop()\n",
    "mnist_model.add(layers.Dense(10, activation='softmax'))\n",
    "\n",
    "# Compile the model\n",
    "mnist_model.compile(optimizer='adam',\n",
    "                    loss='categorical_crossentropy',\n",
    "                    metrics=['accuracy'])\n",
    "\n",
    "# Evaluate the model on SVHN test data\n",
    "test_loss, test_acc = mnist_model.evaluate(test_images_gray, test_labels)\n",
    "\n",
    "print('Test accuracy on SVHN dataset:', test_acc)\n"
   ]
  },
  {
   "cell_type": "markdown",
   "id": "40114d16",
   "metadata": {},
   "source": [
    "### In the third step you are performing transfer learning from MNIST to SVHN (optional)."
   ]
  },
  {
   "cell_type": "code",
   "execution_count": 2,
   "id": "d2993b9c",
   "metadata": {},
   "outputs": [
    {
     "name": "stderr",
     "output_type": "stream",
     "text": [
      "WARNING:absl:Compiled the loaded model, but the compiled metrics have yet to be built. `model.compile_metrics` will be empty until you train or evaluate the model.\n"
     ]
    },
    {
     "name": "stdout",
     "output_type": "stream",
     "text": [
      "Epoch 1/5\n",
      "\u001b[1m1145/1145\u001b[0m \u001b[32m━━━━━━━━━━━━━━━━━━━━\u001b[0m\u001b[37m\u001b[0m \u001b[1m48s\u001b[0m 40ms/step - accuracy: 0.6513 - loss: 1.0871 - val_accuracy: 0.8534 - val_loss: 0.5085\n",
      "Epoch 2/5\n",
      "\u001b[1m1145/1145\u001b[0m \u001b[32m━━━━━━━━━━━━━━━━━━━━\u001b[0m\u001b[37m\u001b[0m \u001b[1m46s\u001b[0m 40ms/step - accuracy: 0.8727 - loss: 0.4345 - val_accuracy: 0.8719 - val_loss: 0.4455\n",
      "Epoch 3/5\n",
      "\u001b[1m1145/1145\u001b[0m \u001b[32m━━━━━━━━━━━━━━━━━━━━\u001b[0m\u001b[37m\u001b[0m \u001b[1m40s\u001b[0m 35ms/step - accuracy: 0.8959 - loss: 0.3563 - val_accuracy: 0.8840 - val_loss: 0.4058\n",
      "Epoch 4/5\n",
      "\u001b[1m1145/1145\u001b[0m \u001b[32m━━━━━━━━━━━━━━━━━━━━\u001b[0m\u001b[37m\u001b[0m \u001b[1m43s\u001b[0m 38ms/step - accuracy: 0.9070 - loss: 0.3132 - val_accuracy: 0.8968 - val_loss: 0.3579\n",
      "Epoch 5/5\n",
      "\u001b[1m1145/1145\u001b[0m \u001b[32m━━━━━━━━━━━━━━━━━━━━\u001b[0m\u001b[37m\u001b[0m \u001b[1m46s\u001b[0m 40ms/step - accuracy: 0.9173 - loss: 0.2810 - val_accuracy: 0.9008 - val_loss: 0.3465\n",
      "\u001b[1m814/814\u001b[0m \u001b[32m━━━━━━━━━━━━━━━━━━━━\u001b[0m\u001b[37m\u001b[0m \u001b[1m4s\u001b[0m 5ms/step - accuracy: 0.8976 - loss: 0.3565\n",
      "Test accuracy on SVHN dataset: 0.9007759690284729\n"
     ]
    }
   ],
   "source": [
    "import tensorflow as tf\n",
    "from tensorflow.keras import layers, models\n",
    "from tensorflow.keras.utils import to_categorical\n",
    "from tensorflow.keras.models import load_model\n",
    "import cv2\n",
    "from scipy.io import loadmat\n",
    "import numpy as np\n",
    "\n",
    "# Load SVHN dataset\n",
    "train_data = loadmat('train_32x32.mat')\n",
    "test_data = loadmat('test_32x32.mat')\n",
    "\n",
    "# Extract images and labels from SVHN dataset\n",
    "train_images = np.moveaxis(train_data['X'], -1, 0)\n",
    "train_labels = train_data['y']\n",
    "test_images = np.moveaxis(test_data['X'], -1, 0)\n",
    "test_labels = test_data['y']\n",
    "\n",
    "# Preprocess SVHN dataset\n",
    "train_images = train_images.astype('float32') / 255\n",
    "test_images = test_images.astype('float32') / 255\n",
    "\n",
    "# Resize SVHN images to 28x28\n",
    "train_images_resized = [cv2.resize(img, (28, 28)) for img in train_images]\n",
    "test_images_resized = [cv2.resize(img, (28, 28)) for img in test_images]\n",
    "\n",
    "# Convert SVHN images to grayscale\n",
    "train_images_gray = [cv2.cvtColor(img, cv2.COLOR_RGB2GRAY) for img in train_images_resized]\n",
    "test_images_gray = [cv2.cvtColor(img, cv2.COLOR_RGB2GRAY) for img in test_images_resized]\n",
    "\n",
    "# Expand dimensions to match input shape of the pre-trained MNIST model\n",
    "train_images_gray = np.expand_dims(train_images_gray, axis=-1)\n",
    "test_images_gray = np.expand_dims(test_images_gray, axis=-1)\n",
    "\n",
    "# Convert SVHN labels to one-hot encoding\n",
    "train_labels = to_categorical(train_labels - 1, num_classes=10)\n",
    "test_labels = to_categorical(test_labels - 1, num_classes=10)\n",
    "\n",
    "# Load the pre-trained MNIST model\n",
    "mnist_model = load_model(\"mnist_model.h5\")\n",
    "\n",
    "# Fine-tune the entire model\n",
    "for layer in mnist_model.layers:\n",
    "    layer.trainable = True\n",
    "\n",
    "# Compile the model\n",
    "mnist_model.compile(optimizer='adam',\n",
    "                    loss='categorical_crossentropy',\n",
    "                    metrics=['accuracy'])\n",
    "\n",
    "# Train the model on SVHN data\n",
    "history = mnist_model.fit(train_images_gray, train_labels, epochs=5, batch_size=64, validation_data=(test_images_gray, test_labels))\n",
    "\n",
    "# Evaluate the model on SVHN test data\n",
    "test_loss, test_acc = mnist_model.evaluate(test_images_gray, test_labels)\n",
    "\n",
    "print('Test accuracy on SVHN dataset:', test_acc)\n"
   ]
  }
 ],
 "metadata": {
  "kernelspec": {
   "display_name": "Python 3 (ipykernel)",
   "language": "python",
   "name": "python3"
  },
  "language_info": {
   "codemirror_mode": {
    "name": "ipython",
    "version": 3
   },
   "file_extension": ".py",
   "mimetype": "text/x-python",
   "name": "python",
   "nbconvert_exporter": "python",
   "pygments_lexer": "ipython3",
   "version": "3.11.5"
  }
 },
 "nbformat": 4,
 "nbformat_minor": 5
}
